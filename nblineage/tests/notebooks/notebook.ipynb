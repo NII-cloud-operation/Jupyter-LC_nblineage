{
 "cells": [
  {
   "cell_type": "markdown",
   "metadata": {
    "lc_cell_meme": {
     "current": "437c8d0a-0862-11e7-8c9a-0242ac110002",
     "next": "4d347858-0862-11e7-8c9a-0242ac110002",
     "previous": null
    }
   },
   "source": [
    "Test notebook"
   ]
  },
  {
   "cell_type": "code",
   "execution_count": 1,
   "metadata": {
    "collapsed": false,
    "lc_cell_meme": {
     "current": "4d347858-0862-11e7-8c9a-0242ac110002",
     "next": "5b58c9fc-0862-11e7-8c9a-0242ac110002",
     "previous": "437c8d0a-0862-11e7-8c9a-0242ac110002"
    }
   },
   "outputs": [
    {
     "name": "stdout",
     "output_type": "stream",
     "text": [
      "Notebook for unittest\n"
     ]
    }
   ],
   "source": [
    "print \"Notebook for unittest\""
   ]
  },
  {
   "cell_type": "markdown",
   "metadata": {
    "lc_cell_meme": {
     "current": "5b58c9fc-0862-11e7-8c9a-0242ac110002",
     "next": null,
     "previous": "4d347858-0862-11e7-8c9a-0242ac110002"
    }
   },
   "source": [
    "test"
   ]
  }
 ],
 "metadata": {
  "kernelspec": {
   "display_name": "Python 2",
   "language": "python",
   "name": "python2"
  },
  "language_info": {
   "codemirror_mode": {
    "name": "ipython",
    "version": 2
   },
   "file_extension": ".py",
   "mimetype": "text/x-python",
   "name": "python",
   "nbconvert_exporter": "python",
   "pygments_lexer": "ipython2",
   "version": "2.7.9"
  },
  "lc_notebook_meme": {
   "current": "437c8b98-0862-11e7-8c9a-0242ac110002"
  },
  "toc": {
   "colors": {
    "hover_highlight": "#DAA520",
    "running_highlight": "#FF0000",
    "selected_highlight": "#FFD700"
   },
   "moveMenuLeft": true,
   "nav_menu": {
    "height": "12px",
    "width": "252px"
   },
   "navigate_menu": true,
   "number_sections": true,
   "sideBar": true,
   "threshold": 4,
   "toc_cell": false,
   "toc_section_display": "block",
   "toc_window_display": false
  }
 },
 "nbformat": 4,
 "nbformat_minor": 2
}
